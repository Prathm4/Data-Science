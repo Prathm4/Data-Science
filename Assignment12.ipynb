{
 "cells": [
  {
   "cell_type": "code",
   "execution_count": 7,
   "metadata": {},
   "outputs": [],
   "source": [
    "import numpy as np \n",
    "import matplotlib.pyplot as plt \n",
    "import pandas as pd\n",
    "from sklearn.naive_bayes import GaussianNB\n",
    "from sklearn.naive_bayes import MultinomialNB\n",
    "from sklearn.model_selection import train_test_split\n",
    "from sklearn.metrics import confusion_matrix"
   ]
  },
  {
   "cell_type": "code",
   "execution_count": 15,
   "metadata": {},
   "outputs": [],
   "source": [
    "salary_train = pd.read_csv(r\"C:\\Users\\Vikas Salunke\\Desktop\\Data Science\\SalaryData_Train.csv\")\n",
    "salary_test = pd.read_csv(r\"C:\\Users\\Vikas Salunke\\Desktop\\Data Science\\SalaryData_Test.csv\")\n",
    "string_columns=[\"workclass\",\"education\",\"maritalstatus\",\"occupation\",\"relationship\",\"race\",\"sex\",\"native\"]"
   ]
  },
  {
   "cell_type": "code",
   "execution_count": 19,
   "metadata": {},
   "outputs": [
    {
     "name": "stdout",
     "output_type": "stream",
     "text": [
      "Accuracy 0.7933155080213904\n",
      "Accuracy 0.7577106934712854\n"
     ]
    }
   ],
   "source": [
    "from sklearn import preprocessing\n",
    "number = preprocessing.LabelEncoder()\n",
    "for i in string_columns:\n",
    "    salary_train[i] = number.fit_transform(salary_train[i])\n",
    "    salary_test[i] = number.fit_transform(salary_test[i])\n",
    "\n",
    "colnames = salary_train.columns\n",
    "len(colnames[0:13])\n",
    "trainX = salary_train[colnames[0:13]]\n",
    "trainY = salary_train[colnames[13]]\n",
    "testX  = salary_test[colnames[0:13]]\n",
    "testY  = salary_test[colnames[13]]\n",
    "\n",
    "sgnb = GaussianNB()\n",
    "smnb = MultinomialNB()\n",
    "spred_gnb = sgnb.fit(trainX,trainY).predict(testX)\n",
    "confusion_matrix(testY,spred_gnb)\n",
    "print (\"Accuracy\",(10659+1209)/(10659+601+2491+1209)) # 80%\n",
    "\n",
    "spred_mnb = smnb.fit(trainX,trainY).predict(testX)\n",
    "confusion_matrix(testY,spred_mnb)\n",
    "print(\"Accuracy\",(10791+780)/(10791+780+2920+780))  # 75%\n"
   ]
  },
  {
   "cell_type": "code",
   "execution_count": null,
   "metadata": {},
   "outputs": [],
   "source": []
  }
 ],
 "metadata": {
  "kernelspec": {
   "display_name": "Python 3",
   "language": "python",
   "name": "python3"
  },
  "language_info": {
   "codemirror_mode": {
    "name": "ipython",
    "version": 3
   },
   "file_extension": ".py",
   "mimetype": "text/x-python",
   "name": "python",
   "nbconvert_exporter": "python",
   "pygments_lexer": "ipython3",
   "version": "3.7.6"
  }
 },
 "nbformat": 4,
 "nbformat_minor": 4
}
